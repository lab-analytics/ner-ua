{
 "nbformat": 4,
 "nbformat_minor": 2,
 "metadata": {
  "language_info": {
   "name": "python",
   "codemirror_mode": {
    "name": "ipython",
    "version": 3
   },
   "version": "3.7.4-final"
  },
  "orig_nbformat": 2,
  "file_extension": ".py",
  "mimetype": "text/x-python",
  "name": "python",
  "npconvert_exporter": "python",
  "pygments_lexer": "ipython3",
  "version": 3,
  "kernelspec": {
   "name": "python37464bitbaseconda8ef97afcaf204ba8b253cab2d490e608",
   "display_name": "Python 3.7.4 64-bit ('base': conda)"
  }
 },
 "cells": [
  {
   "cell_type": "code",
   "execution_count": 1,
   "metadata": {},
   "outputs": [],
   "source": [
    "%matplotlib inline\n",
    "import os, re, fnmatch, sys\n",
    "import numpy as np\n",
    "import pandas as pd\n",
    "from pathlib import Path\n",
    "import time\n",
    "import plotly.express as px\n",
    "# define the current path (notebooks in lab_utils)\n",
    "currpath = os.getcwd()\n",
    "labutilspath = str(Path(currpath).parents[1])\n",
    "sys.path.append(labutilspath)\n",
    "\n",
    "from _helpers.basics import rock_info\n",
    "from ner_usa import tools as usa\n",
    "\n",
    "\n",
    "# define paths\n",
    "basepath = '/media/damiansa/data/lab/data/usa_experiments'\n",
    "\n",
    "# set the asdatapath accordingly (where is the atuoscan data inside basedatapath?)\n",
    "datafolder   = 'exports'\n",
    "\n",
    "# construct datapath\n",
    "datapath = os.path.join(basepath, datafolder)"
   ]
  },
  {
   "cell_type": "code",
   "execution_count": 2,
   "metadata": {},
   "outputs": [],
   "source": [
    "# load rock information\n",
    "ri = rock_info()\n",
    "io = usa.io(basepath = basepath, datadir = datafolder)\n",
    "pp = usa.postprocess()"
   ]
  },
  {
   "cell_type": "code",
   "execution_count": null,
   "metadata": {},
   "outputs": [],
   "source": [
    "io.plot_ports('tc')\n",
    "io.plot_ports('src')"
   ]
  },
  {
   "cell_type": "code",
   "execution_count": 3,
   "metadata": {},
   "outputs": [],
   "source": [
    "# get the data for all the runs\n",
    "di = io.db_get_run_info()\n",
    "\n",
    "# get the info of capture\n",
    "dj = io.db_get_capture_info()\n",
    "\n",
    "# get the data of one of the runs\n",
    "# df = io.db_get_run_data(run_id=109, decimals=0)\n",
    "\n",
    "# postprocess data and find mean, max, min, and standard deviation\n",
    "# df2 = pp.data_mix_max_mean(df)"
   ]
  },
  {
   "cell_type": "code",
   "execution_count": 6,
   "metadata": {},
   "outputs": [
    {
     "data": {
      "text/html": "<div>\n<style scoped>\n    .dataframe tbody tr th:only-of-type {\n        vertical-align: middle;\n    }\n\n    .dataframe tbody tr th {\n        vertical-align: top;\n    }\n\n    .dataframe thead th {\n        text-align: right;\n    }\n</style>\n<table border=\"1\" class=\"dataframe\">\n  <thead>\n    <tr style=\"text-align: right;\">\n      <th></th>\n      <th>id</th>\n      <th>project</th>\n      <th>sample</th>\n      <th>poreflids</th>\n      <th>thermocople_location_set</th>\n      <th>thermocople_locations_list</th>\n    </tr>\n  </thead>\n  <tbody>\n    <tr>\n      <th>0</th>\n      <td>79</td>\n      <td>Initial Horizontal Low Freqency Installation</td>\n      <td>Test Bed Sand: agag</td>\n      <td>Damp Sand</td>\n      <td>Defalt</td>\n      <td>[[1, 0.1], [1, 0.17], [1, 0.34], [1, 0.51], [1...</td>\n    </tr>\n    <tr>\n      <th>1</th>\n      <td>81</td>\n      <td>Initial Horizontal Low Freqency Installation</td>\n      <td>Test Bed Sand: agag</td>\n      <td>Damp Sand</td>\n      <td>Installation2018</td>\n      <td>[[1, 0.1], [1, 0.2775], [1, 0.455], [1, 0.6325...</td>\n    </tr>\n    <tr>\n      <th>2</th>\n      <td>84</td>\n      <td>Initial Horizontal Low Freqency Installation</td>\n      <td>Test Bed Sand: Day 6 Training and Shakedown</td>\n      <td>Damp Sand</td>\n      <td>Installation2018</td>\n      <td>[[1, 0.1], [1, 0.2775], [1, 0.455], [1, 0.6325...</td>\n    </tr>\n    <tr>\n      <th>3</th>\n      <td>85</td>\n      <td>Initial Horizontal Low Freqency Installation</td>\n      <td>Test Bed Sand: Day 6 Training and Shakedown</td>\n      <td>Tapwater</td>\n      <td>Installation2018</td>\n      <td>[[1, 0.1], [1, 0.2775], [1, 0.455], [1, 0.6325...</td>\n    </tr>\n    <tr>\n      <th>4</th>\n      <td>86</td>\n      <td>Initial Horizontal Low Freqency Installation</td>\n      <td>Test Bed Sand: Day 6 Training and Shakedown</td>\n      <td>Tapwater</td>\n      <td>Installation2018</td>\n      <td>[[1, 0.1], [1, 0.2775], [1, 0.455], [1, 0.6325...</td>\n    </tr>\n    <tr>\n      <th>...</th>\n      <td>...</td>\n      <td>...</td>\n      <td>...</td>\n      <td>...</td>\n      <td>...</td>\n      <td>...</td>\n    </tr>\n    <tr>\n      <th>86</th>\n      <td>187</td>\n      <td>rh_60: three sands</td>\n      <td>S-1: Mix three sands</td>\n      <td></td>\n      <td>rh_11142019</td>\n      <td>[[1, 0.1], [1, 0.2775], [1, 0.455], [1, 0.6325...</td>\n    </tr>\n    <tr>\n      <th>87</th>\n      <td>188</td>\n      <td>steam baseline</td>\n      <td>S-1: Mix three sands</td>\n      <td></td>\n      <td>rh_11142019</td>\n      <td>[[1, 0.1], [1, 0.2775], [1, 0.455], [1, 0.6325...</td>\n    </tr>\n    <tr>\n      <th>88</th>\n      <td>189</td>\n      <td>steam baseline</td>\n      <td>S-1: Mix three sands</td>\n      <td></td>\n      <td>rh_11142019</td>\n      <td>[[1, 0.1], [1, 0.2775], [1, 0.455], [1, 0.6325...</td>\n    </tr>\n    <tr>\n      <th>89</th>\n      <td>190</td>\n      <td>steam baseline</td>\n      <td>S-1: Mix three sands</td>\n      <td></td>\n      <td>rh_11142019</td>\n      <td>[[1, 0.1], [1, 0.2775], [1, 0.455], [1, 0.6325...</td>\n    </tr>\n    <tr>\n      <th>90</th>\n      <td>191</td>\n      <td>steam baseline</td>\n      <td>S-1: Mix three sands</td>\n      <td></td>\n      <td>rh_11142019</td>\n      <td>[[1, 0.1], [1, 0.2775], [1, 0.455], [1, 0.6325...</td>\n    </tr>\n  </tbody>\n</table>\n<p>91 rows × 6 columns</p>\n</div>",
      "text/plain": "     id                                       project  \\\n0    79  Initial Horizontal Low Freqency Installation   \n1    81  Initial Horizontal Low Freqency Installation   \n2    84  Initial Horizontal Low Freqency Installation   \n3    85  Initial Horizontal Low Freqency Installation   \n4    86  Initial Horizontal Low Freqency Installation   \n..  ...                                           ...   \n86  187                            rh_60: three sands   \n87  188                                steam baseline   \n88  189                                steam baseline   \n89  190                                steam baseline   \n90  191                                steam baseline   \n\n                                         sample  poreflids  \\\n0                           Test Bed Sand: agag  Damp Sand   \n1                           Test Bed Sand: agag  Damp Sand   \n2   Test Bed Sand: Day 6 Training and Shakedown  Damp Sand   \n3   Test Bed Sand: Day 6 Training and Shakedown   Tapwater   \n4   Test Bed Sand: Day 6 Training and Shakedown   Tapwater   \n..                                          ...        ...   \n86                         S-1: Mix three sands              \n87                         S-1: Mix three sands              \n88                         S-1: Mix three sands              \n89                         S-1: Mix three sands              \n90                         S-1: Mix three sands              \n\n   thermocople_location_set                         thermocople_locations_list  \n0                    Defalt  [[1, 0.1], [1, 0.17], [1, 0.34], [1, 0.51], [1...  \n1          Installation2018  [[1, 0.1], [1, 0.2775], [1, 0.455], [1, 0.6325...  \n2          Installation2018  [[1, 0.1], [1, 0.2775], [1, 0.455], [1, 0.6325...  \n3          Installation2018  [[1, 0.1], [1, 0.2775], [1, 0.455], [1, 0.6325...  \n4          Installation2018  [[1, 0.1], [1, 0.2775], [1, 0.455], [1, 0.6325...  \n..                      ...                                                ...  \n86              rh_11142019  [[1, 0.1], [1, 0.2775], [1, 0.455], [1, 0.6325...  \n87              rh_11142019  [[1, 0.1], [1, 0.2775], [1, 0.455], [1, 0.6325...  \n88              rh_11142019  [[1, 0.1], [1, 0.2775], [1, 0.455], [1, 0.6325...  \n89              rh_11142019  [[1, 0.1], [1, 0.2775], [1, 0.455], [1, 0.6325...  \n90              rh_11142019  [[1, 0.1], [1, 0.2775], [1, 0.455], [1, 0.6325...  \n\n[91 rows x 6 columns]"
     },
     "execution_count": 6,
     "metadata": {},
     "output_type": "execute_result"
    }
   ],
   "source": [
    "di"
   ]
  },
  {
   "cell_type": "code",
   "execution_count": null,
   "metadata": {},
   "outputs": [],
   "source": [
    "# plot the mean temperature\n",
    "fig = px.scatter(df2, x = 't', y = 'mean')\n",
    "fig.show()"
   ]
  },
  {
   "cell_type": "code",
   "execution_count": null,
   "metadata": {},
   "outputs": [],
   "source": [
    "heater_index = s3.iloc[[1,3,6,7,8],4:].apply(np.max, axis=1)>0\n",
    "heaters = s3.index[[1,3,6,7,8]][heater_index].values\n",
    "mwrftest = re.findall('mw|uh', str(heaters))[0]\n",
    "any(re.match('mw|rf', s.lower()) for s in heaters)"
   ]
  },
  {
   "cell_type": "code",
   "execution_count": null,
   "metadata": {},
   "outputs": [],
   "source": [
    "out_index = s3.index[s3.iloc[:,4:].apply(np.max, axis=1)>0]\n",
    "s3.loc[out_index,:]"
   ]
  },
  {
   "cell_type": "code",
   "execution_count": null,
   "metadata": {},
   "outputs": [],
   "source": [
    "px.scatter_3d(data_frame=s2, x = 'x', y = 'y', z = 'depth', color = 'port')"
   ]
  },
  {
   "cell_type": "code",
   "execution_count": null,
   "metadata": {},
   "outputs": [],
   "source": [
    "import sqlite3\n",
    "import io as pyio\n",
    "import json, yaml, ast\n",
    "\n",
    "def convert_buffer(buffer, round=True, decimals = 2):\n",
    "    out = np.load(pyio.BytesIO(buffer))['v']\n",
    "    if round:\n",
    "        out = np.around(out, decimals = decimals)\n",
    "    return out\n",
    "\n",
    "def fix_infovals(info):\n",
    "    h = info.replace('u','')\n",
    "    d = yaml.load(h, yaml.SafeLoader)\n",
    "    d = pd.Series(d)\n",
    "    return d\n",
    "\n",
    "infocols = ['project','sample', 'poreflids','thermocople_location_set','thermocople_locations_list']\n",
    "# io.dbpath\n",
    "con = io.db_connect()\n",
    "# c = con.cursor()\n"
   ]
  },
  {
   "cell_type": "code",
   "execution_count": null,
   "metadata": {},
   "outputs": [],
   "source": [
    "# c = con.cursor()\n",
    "# c.execute(\"SELECT mnem,data FROM database_trace\")\n",
    "# mnem, buffer = c.fetchone()\n",
    "# data = convert_buffer(buffer)\n",
    "# #data = np.load(StringIO(b))['v']\n",
    "# #print(data)\n",
    "# # fetch run data\n",
    "# # reader = con.execute(\"SELECT id, infovals, extra FROM database_run\")\n",
    "# # # run = reader.fetchall()"
   ]
  },
  {
   "cell_type": "code",
   "execution_count": null,
   "metadata": {},
   "outputs": [],
   "source": [
    "\n",
    "con = io.db_connect()\n",
    "c = con.cursor()\n",
    "# c.row_factory = sqlite3.Row\n",
    "c.execute(\"SELECT * FROM database_capture\")\n",
    "# # c.fetchall()\n",
    "# run = [dict(row) for row in c.fetchall()]\n",
    "data = c.fetchall()\n",
    "c.close()"
   ]
  },
  {
   "cell_type": "code",
   "execution_count": null,
   "metadata": {},
   "outputs": [],
   "source": [
    "pd.DataFrame(data)"
   ]
  },
  {
   "cell_type": "code",
   "execution_count": null,
   "metadata": {},
   "outputs": [],
   "source": [
    "run[0].keys()"
   ]
  },
  {
   "cell_type": "code",
   "execution_count": null,
   "metadata": {},
   "outputs": [],
   "source": []
  },
  {
   "cell_type": "code",
   "execution_count": null,
   "metadata": {},
   "outputs": [],
   "source": []
  },
  {
   "cell_type": "code",
   "execution_count": null,
   "metadata": {},
   "outputs": [],
   "source": []
  },
  {
   "cell_type": "code",
   "execution_count": null,
   "metadata": {},
   "outputs": [],
   "source": [
    "#json.loads(h.replace(\"'\", \"\\\"\"))\n",
    "#type(h)#.replace(\"'\",'\"'))\n",
    "#pd.DataFrame(pd.DataFrame(run).iloc[:,1].values.tolist())\n",
    "# rows = con.execute(\"SELECT name FROM sqlite_master WHERE type = 'table'\")\n",
    "# tables = [row[0] for row in rows]"
   ]
  },
  {
   "cell_type": "code",
   "execution_count": null,
   "metadata": {},
   "outputs": [],
   "source": [
    "\n",
    "\n",
    "c = con.cursor()\n",
    "# c.row_factory = sqlite3.Row\n",
    "c.execute(\"SELECT id, infovals FROM database_run\")\n",
    "data = c.fetchall()\n",
    "df = pd.DataFrame(data, columns = ['id', 'infovals'])#.apply(fix_infovals)\n",
    "df.dropna(inplace=True)\n",
    "df.reset_index(inplace=True, drop = True)\n",
    "df = pd.concat([df.loc[:,'id'], df.loc[:,'infovals'].apply(fix_infovals).loc[:,infocols]], axis = 1)\n",
    "df.replace(to_replace='None', value=np.nan, inplace = True)\n",
    "df.dropna(inplace=True, subset=['thermocople_locations_list'])\n",
    "df.reset_index(inplace=True, drop = True)\n",
    "df.head()"
   ]
  },
  {
   "cell_type": "code",
   "execution_count": null,
   "metadata": {},
   "outputs": [],
   "source": [
    "st = time.time()\n",
    "c = con.cursor()\n",
    "# c.row_factory = sqlite3.Row\n",
    "# c.execute(\"SELECT abbrev,format,data FROM database_trace WHERE capture_id=109\")\n",
    "c.execute(\"SELECT abbrev,data FROM database_trace WHERE capture_id=109\")\n",
    "data = c.fetchall()\n",
    "c.close()\n",
    "df = pd.DataFrame(data, columns = ['tc','data']).iloc[:-1,:]\n",
    "trace = df.loc[:,'data'].apply(convert_buffer).apply(pd.Series)#.apply(np.around, decimals=2)\n",
    "df = pd.concat([df.loc[:,'tc'], trace], axis=1)\n",
    "print(time.time() - st)\n",
    "df.head()"
   ]
  },
  {
   "cell_type": "code",
   "execution_count": null,
   "metadata": {},
   "outputs": [],
   "source": [
    "\n",
    "\n",
    "# d = df.loc[:,'data'].values\n",
    "# d = np.concatenate(d)\n",
    "# d = np.reshape(d, (df.shape[0], int(d.shape[0]/df.shape[0])))\n",
    "# d.shape\n",
    "# st = time.time()\n",
    "# c = con.cursor()\n",
    "# # c.row_factory = sqlite3.Row\n",
    "# # c.execute(\"SELECT abbrev,format,data FROM database_trace WHERE capture_id=109\")\n",
    "# c.execute(\"SELECT abbrev,data FROM database_trace WHERE capture_id=109\")\n",
    "# data = c.fetchall()\n",
    "# ds = []\n",
    "# for row in data:\n",
    "#     d = convert_buffer(row[1])\n",
    "#     ds.append(d)\n",
    "# df2 = pd.DataFrame(ds)\n",
    "# print(time.time() - st)"
   ]
  },
  {
   "cell_type": "code",
   "execution_count": null,
   "metadata": {},
   "outputs": [],
   "source": [
    "def sql_identifier(s):\n",
    "    return '\"' + s.replace('\"', '\"\"') + '\"'\n",
    "\n",
    "def get_col_names(cursor, tablename):\n",
    "    \"\"\"Get column names of a table, given its name and a cursor\n",
    "       (or connection) to the database.\n",
    "    \"\"\"\n",
    "    reader=cursor.execute(\"SELECT * FROM {}\".format(tablename))\n",
    "    return [x[0] for x in reader.description] \n",
    "\n",
    "\n",
    "# for table in tables:\n",
    "#     print(\"\\n\\ntable: \" + table)\n",
    "#     cols = get_col_names(cur, table)\n",
    "#     print(cols)\n",
    "#     # print('table info', sep = '\\n')\n",
    "#     # rows = con.execute(\"PRAGMA table_info({})\".format(sql_identifier(table)))\n",
    "#     # print(rows.fetchall())\n",
    "#     print('\\nforeign keys')\n",
    "#     rows = con.execute(\"PRAGMA foreign_key_list({})\".format(sql_identifier(table)))\n",
    "#     print(rows.fetchall())"
   ]
  },
  {
   "cell_type": "code",
   "execution_count": null,
   "metadata": {},
   "outputs": [],
   "source": []
  }
 ]
}
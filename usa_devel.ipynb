{
 "nbformat": 4,
 "nbformat_minor": 2,
 "metadata": {
  "language_info": {
   "name": "python",
   "codemirror_mode": {
    "name": "ipython",
    "version": 3
   },
   "version": "3.7.4-final"
  },
  "orig_nbformat": 2,
  "file_extension": ".py",
  "mimetype": "text/x-python",
  "name": "python",
  "npconvert_exporter": "python",
  "pygments_lexer": "ipython3",
  "version": 3,
  "kernelspec": {
   "name": "python37464bitbaseconda8ef97afcaf204ba8b253cab2d490e608",
   "display_name": "Python 3.7.4 64-bit ('base': conda)"
  }
 },
 "cells": [
  {
   "cell_type": "code",
   "execution_count": null,
   "metadata": {},
   "outputs": [],
   "source": [
    "%matplotlib inline\n",
    "import os, re, fnmatch, sys\n",
    "import numpy as np\n",
    "import pandas as pd\n",
    "from pathlib import Path\n",
    "import time\n",
    "import plotly.express as px\n",
    "# define the current path (notebooks in lab_utils)\n",
    "currpath = os.getcwd()\n",
    "labutilspath = str(Path(currpath).parents[1])\n",
    "sys.path.append(labutilspath)\n",
    "\n",
    "from _helpers.basics import rock_info\n",
    "from ner_usa import tools as usa\n",
    "\n",
    "\n",
    "# define paths\n",
    "basepath = '/media/damiansa/data/lab/data/usa_experiments'\n",
    "\n",
    "# set the asdatapath accordingly (where is the atuoscan data inside basedatapath?)\n",
    "datafolder   = 'exports'\n",
    "\n",
    "# construct datapath\n",
    "datapath = os.path.join(basepath, datafolder)"
   ]
  },
  {
   "cell_type": "code",
   "execution_count": null,
   "metadata": {},
   "outputs": [],
   "source": [
    "# load rock information\n",
    "ri = rock_info()\n",
    "io = usa.io(basepath = basepath, datadir = datafolder)\n",
    "pp = usa.postprocess()"
   ]
  },
  {
   "cell_type": "code",
   "execution_count": null,
   "metadata": {},
   "outputs": [],
   "source": [
    "io.plot_ports('tc')\n",
    "io.plot_ports('src')"
   ]
  },
  {
   "cell_type": "code",
   "execution_count": null,
   "metadata": {},
   "outputs": [],
   "source": [
    "# get the data for all the runs\n",
    "di = io.db_get_run_info()"
   ]
  },
  {
   "cell_type": "code",
   "execution_count": null,
   "metadata": {},
   "outputs": [],
   "source": [
    "# get the data of one of the runs\n",
    "df = io.db_get_run_data(run_id=109, decimals=0)"
   ]
  },
  {
   "cell_type": "code",
   "execution_count": null,
   "metadata": {},
   "outputs": [],
   "source": [
    "df2 = pp.data_mix_max_mean(df)"
   ]
  },
  {
   "cell_type": "code",
   "execution_count": null,
   "metadata": {},
   "outputs": [],
   "source": [
    "fig = px.scatter(df2, x = 't', y = 'mean')\n",
    "fig.show()"
   ]
  },
  {
   "cell_type": "code",
   "execution_count": null,
   "metadata": {},
   "outputs": [],
   "source": [
    "heater_index = s3.iloc[[1,3,6,7,8],4:].apply(np.max, axis=1)>0\n",
    "heaters = s3.index[[1,3,6,7,8]][heater_index].values\n",
    "mwrftest = re.findall('mw|uh', str(heaters))[0]\n",
    "any(re.match('mw|rf', s.lower()) for s in heaters)"
   ]
  },
  {
   "cell_type": "code",
   "execution_count": null,
   "metadata": {},
   "outputs": [],
   "source": [
    "out_index = s3.index[s3.iloc[:,4:].apply(np.max, axis=1)>0]\n",
    "s3.loc[out_index,:]"
   ]
  },
  {
   "cell_type": "code",
   "execution_count": null,
   "metadata": {},
   "outputs": [],
   "source": [
    "px.scatter_3d(data_frame=s2, x = 'x', y = 'y', z = 'depth', color = 'port')"
   ]
  },
  {
   "cell_type": "code",
   "execution_count": null,
   "metadata": {},
   "outputs": [],
   "source": [
    "import sqlite3\n",
    "import io as pyio\n",
    "import json, yaml, ast\n",
    "\n",
    "def convert_buffer(buffer, round=True, decimals = 2):\n",
    "    out = np.load(pyio.BytesIO(buffer))['v']\n",
    "    if round:\n",
    "        out = np.around(out, decimals = decimals)\n",
    "    return out\n",
    "\n",
    "def fix_infovals(info):\n",
    "    h = info.replace('u','')\n",
    "    d = yaml.load(h, yaml.SafeLoader)\n",
    "    d = pd.Series(d)\n",
    "    return d\n",
    "\n",
    "infocols = ['project','sample', 'poreflids','thermocople_location_set','thermocople_locations_list']\n",
    "# io.dbpath\n",
    "con = io.db_connect()\n",
    "# c = con.cursor()\n"
   ]
  },
  {
   "cell_type": "code",
   "execution_count": null,
   "metadata": {},
   "outputs": [],
   "source": [
    "# c = con.cursor()\n",
    "# c.execute(\"SELECT mnem,data FROM database_trace\")\n",
    "# mnem, buffer = c.fetchone()\n",
    "# data = convert_buffer(buffer)\n",
    "# #data = np.load(StringIO(b))['v']\n",
    "# #print(data)\n",
    "# # fetch run data\n",
    "# # reader = con.execute(\"SELECT id, infovals, extra FROM database_run\")\n",
    "# # # run = reader.fetchall()"
   ]
  },
  {
   "cell_type": "code",
   "execution_count": null,
   "metadata": {},
   "outputs": [],
   "source": [
    "\n",
    "c = con.cursor()\n",
    "c.row_factory = sqlite3.Row\n",
    "c.execute(\"SELECT * FROM database_trace\")\n",
    "# # c.fetchall()\n",
    "run = [dict(row) for row in c.fetchall()]\n",
    "c.close()"
   ]
  },
  {
   "cell_type": "code",
   "execution_count": null,
   "metadata": {},
   "outputs": [],
   "source": [
    "#json.loads(h.replace(\"'\", \"\\\"\"))\n",
    "#type(h)#.replace(\"'\",'\"'))\n",
    "#pd.DataFrame(pd.DataFrame(run).iloc[:,1].values.tolist())\n",
    "# rows = con.execute(\"SELECT name FROM sqlite_master WHERE type = 'table'\")\n",
    "# tables = [row[0] for row in rows]"
   ]
  },
  {
   "cell_type": "code",
   "execution_count": null,
   "metadata": {},
   "outputs": [],
   "source": [
    "\n",
    "\n",
    "c = con.cursor()\n",
    "# c.row_factory = sqlite3.Row\n",
    "c.execute(\"SELECT id, infovals FROM database_run\")\n",
    "data = c.fetchall()\n",
    "df = pd.DataFrame(data, columns = ['id', 'infovals'])#.apply(fix_infovals)\n",
    "df.dropna(inplace=True)\n",
    "df.reset_index(inplace=True, drop = True)\n",
    "df = pd.concat([df.loc[:,'id'], df.loc[:,'infovals'].apply(fix_infovals).loc[:,infocols]], axis = 1)\n",
    "df.replace(to_replace='None', value=np.nan, inplace = True)\n",
    "df.dropna(inplace=True, subset=['thermocople_locations_list'])\n",
    "df.reset_index(inplace=True, drop = True)\n",
    "df.head()"
   ]
  },
  {
   "cell_type": "code",
   "execution_count": null,
   "metadata": {},
   "outputs": [],
   "source": [
    "st = time.time()\n",
    "c = con.cursor()\n",
    "# c.row_factory = sqlite3.Row\n",
    "# c.execute(\"SELECT abbrev,format,data FROM database_trace WHERE capture_id=109\")\n",
    "c.execute(\"SELECT abbrev,data FROM database_trace WHERE capture_id=109\")\n",
    "data = c.fetchall()\n",
    "c.close()\n",
    "df = pd.DataFrame(data, columns = ['tc','data']).iloc[:-1,:]\n",
    "trace = df.loc[:,'data'].apply(convert_buffer).apply(pd.Series)#.apply(np.around, decimals=2)\n",
    "df = pd.concat([df.loc[:,'tc'], trace], axis=1)\n",
    "print(time.time() - st)\n",
    "df.head()"
   ]
  },
  {
   "cell_type": "code",
   "execution_count": null,
   "metadata": {},
   "outputs": [],
   "source": [
    "\n",
    "\n",
    "# d = df.loc[:,'data'].values\n",
    "# d = np.concatenate(d)\n",
    "# d = np.reshape(d, (df.shape[0], int(d.shape[0]/df.shape[0])))\n",
    "# d.shape\n",
    "# st = time.time()\n",
    "# c = con.cursor()\n",
    "# # c.row_factory = sqlite3.Row\n",
    "# # c.execute(\"SELECT abbrev,format,data FROM database_trace WHERE capture_id=109\")\n",
    "# c.execute(\"SELECT abbrev,data FROM database_trace WHERE capture_id=109\")\n",
    "# data = c.fetchall()\n",
    "# ds = []\n",
    "# for row in data:\n",
    "#     d = convert_buffer(row[1])\n",
    "#     ds.append(d)\n",
    "# df2 = pd.DataFrame(ds)\n",
    "# print(time.time() - st)"
   ]
  },
  {
   "cell_type": "code",
   "execution_count": null,
   "metadata": {},
   "outputs": [],
   "source": [
    "def sql_identifier(s):\n",
    "    return '\"' + s.replace('\"', '\"\"') + '\"'\n",
    "\n",
    "def get_col_names(cursor, tablename):\n",
    "    \"\"\"Get column names of a table, given its name and a cursor\n",
    "       (or connection) to the database.\n",
    "    \"\"\"\n",
    "    reader=cursor.execute(\"SELECT * FROM {}\".format(tablename))\n",
    "    return [x[0] for x in reader.description] \n",
    "\n",
    "\n",
    "# for table in tables:\n",
    "#     print(\"\\n\\ntable: \" + table)\n",
    "#     cols = get_col_names(cur, table)\n",
    "#     print(cols)\n",
    "#     # print('table info', sep = '\\n')\n",
    "#     # rows = con.execute(\"PRAGMA table_info({})\".format(sql_identifier(table)))\n",
    "#     # print(rows.fetchall())\n",
    "#     print('\\nforeign keys')\n",
    "#     rows = con.execute(\"PRAGMA foreign_key_list({})\".format(sql_identifier(table)))\n",
    "#     print(rows.fetchall())"
   ]
  },
  {
   "cell_type": "code",
   "execution_count": null,
   "metadata": {},
   "outputs": [],
   "source": []
  }
 ]
}
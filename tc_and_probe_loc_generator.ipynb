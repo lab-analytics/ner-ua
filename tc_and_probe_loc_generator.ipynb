{
 "cells": [
  {
   "cell_type": "code",
   "execution_count": 6,
   "metadata": {},
   "outputs": [],
   "source": [
    "%matplotlib inline\n",
    "import numpy as np\n",
    "import pandas as pd\n",
    "from matplotlib import pyplot as plt"
   ]
  },
  {
   "cell_type": "code",
   "execution_count": 49,
   "metadata": {},
   "outputs": [],
   "source": [
    "# probe_locs = np.array([(0.5, 0.5), (0.2, 0.2), (0.8, 0.8), (0.8, 0.5), (0.8, 0.2), (0.5, 0.2), (0.2, 0.8), (0.2, 0.5)])\n",
    "# df = pd.DataFrame(columns=['port','x','y'])\n",
    "# for k, locs in enumerate(probe_locs):\n",
    "#     df.loc[k,'port'] = k\n",
    "#     df.loc[k,['x','y']] = locs\n",
    "# df.to_csv('probe_port_locations.csv', index=False)"
   ]
  },
  {
   "cell_type": "code",
   "execution_count": 3,
   "metadata": {},
   "outputs": [],
   "source": [
    "# port_locs = [(0.05, 0.05), (0.05, 0.2), (0.05, 0.5), (0.05, 0.8), (0.05, 0.95),\n",
    "#                          (0.121, 0.121), (0.121, 0.879), (0.125, 0.2), (0.125, 0.5), (0.125, 0.8),\n",
    "#                          (0.275, 0.2), (0.275, 0.5), (0.275, 0.8), (0.35, 0.2), (0.35, 0.5),\n",
    "#                          (0.35, 0.8), (0.5, 0.05), (0.5, 0.125), (0.5, 0.275), (0.5, 0.35),\n",
    "#                          (0.5, 0.65), (0.5, 0.725), (0.5, 0.8), (0.5, 0.875), (0.5, 0.95),\n",
    "#                          (0.606, 0.394), (0.606, 0.606), (0.648, 0.352), (0.648, 0.648), (0.65, 0.5),\n",
    "#                          (0.691, 0.309), (0.691, 0.691), (0.725, 0.5), (0.733, 0.267), (0.733, 0.733),\n",
    "#                          (0.875, 0.5), (0.879, 0.121), (0.879, 0.879), (0.95, 0.05), (0.95, 0.5),\n",
    "#                          (0.95, 0.95)\n",
    "#                          ]\n",
    "# port_locs = np.array(port_locs)\n",
    "# df = pd.DataFrame(columns=['port','x','y'])\n",
    "# for k, locs in enumerate(port_locs):\n",
    "#     df.loc[k,'port'] = k +1\n",
    "#     df.loc[k,['x','y']] = locs\n",
    "# df.to_csv('tc_port_locations.csv', index=False)"
   ]
  },
  {
   "cell_type": "code",
   "execution_count": 50,
   "metadata": {},
   "outputs": [],
   "source": [
    "port_locs  = pd.read_csv('C:/Users/ner/autolab6/exports/_layout/tc_port_locations.csv')\n",
    "probe_locs = pd.read_csv('C:/Users/ner/autolab6/exports/_layout/probe_port_locations.csv')"
   ]
  },
  {
   "cell_type": "code",
   "execution_count": 61,
   "metadata": {},
   "outputs": [],
   "source": [
    "def plot_probes(df, figsize=(10,10), savename=None):\n",
    "    fig, ax = plt.subplots(figsize=(10,10))\n",
    "    ax.scatter(x='x',y='y', data=df)\n",
    "    for i, txt in enumerate(df.loc[:,'port']):\n",
    "        ax.annotate('TC'+str(txt).zfill(2), (df.loc[i,'x']+0.005, df.loc[i,'y']+0.005))\n",
    "    if not savename is None:\n",
    "        plt.savefig(savename)\n",
    "    else:\n",
    "        pass\n"
   ]
  },
  {
   "cell_type": "code",
   "execution_count": 62,
   "metadata": {},
   "outputs": [
    {
     "data": {
      "image/png": "[encoded data removed]",
      "text/plain": [
       "<Figure size 720x720 with 1 Axes>"
      ]
     },
     "metadata": {
      "needs_background": "light"
     },
     "output_type": "display_data"
    }
   ],
   "source": [
    "plot_probes(probe_locs, savename='probe_map.png')"
   ]
  },
  {
   "cell_type": "code",
   "execution_count": null,
   "metadata": {},
   "outputs": [],
   "source": []
  }
 ],
 "metadata": {
  "kernelspec": {
   "display_name": "Python 3",
   "language": "python",
   "name": "python3"
  },
  "language_info": {
   "codemirror_mode": {
    "name": "ipython",
    "version": 3
   },
   "file_extension": ".py",
   "mimetype": "text/x-python",
   "name": "python",
   "nbconvert_exporter": "python",
   "pygments_lexer": "ipython3",
   "version": "3.7.2"
  }
 },
 "nbformat": 4,
 "nbformat_minor": 2
}
